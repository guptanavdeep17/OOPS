{
  "nbformat": 4,
  "nbformat_minor": 0,
  "metadata": {
    "colab": {
      "provenance": []
    },
    "kernelspec": {
      "name": "python3",
      "display_name": "Python 3"
    },
    "language_info": {
      "name": "python"
    }
  },
  "cells": [
    {
      "cell_type": "markdown",
      "source": [
        "# 1. What is Object-Oriented Programming (OOP)?\n",
        "  \n",
        "  * Object-Oriented Programming (OOP) is a programming paradigm that organizes code into objects, which are instances of classes. Each object contains data (attributes) and behavior (methods) related to that data. OOP is built on four main principles: **encapsulation** (bundling data and methods together and restricting direct access), **inheritance** (reusing code by creating new classes from existing ones), **polymorphism** (allowing methods to behave differently based on the object), and **abstraction** (hiding complex details to show only the essential features). This approach makes code more modular, reusable, and easier to maintain.\n",
        "\n",
        "# 2. What is a class in OOP?\n",
        "\n",
        "  * In Object-Oriented Programming (OOP), a class is a blueprint or template for creating objects. It defines a set of attributes (variables) and methods (functions) that the objects created from the class will have. While a class itself doesn't hold data, it describes how the data and behavior should be structured. When you create an object (called an instance) from a class, it inherits the structure and behavior defined by the class.\n",
        "\n",
        "# 3.  What is an object in OOP?\n",
        "\n",
        "  * In Object-Oriented Programming (OOP), an object is a fundamental building block. It represents a real-world entity or concept with both data (attributes) and behavior (methods or functions).\n",
        "\n",
        "# 4.  What is the difference between abstraction and encapsulation?\n",
        "\n",
        "  * **Abstraction:** Abstraction is the process of hiding complex implementation details and showing only the essential features of an object.\n",
        "\n",
        "  * **Encapsulation:** Encapsulation is the process of bundling data (attributes) and the methods (functions) that operate on that data into a single unit (class), and restricting direct access to some of the object's components.  \n",
        "\n",
        "# 5.  What are dunder methods in Python?\n",
        "\n",
        "  * In Python, dunder methods (short for \"double underscore methods\") are special methods with names that start and end with double underscores — like `__init__, __str__, __len__` etc.\n",
        "\n",
        "  * They're also known as:\n",
        "       * Magic methods\n",
        "       * Special methods\n",
        "\n",
        "# 6. Explain the concept of inheritance in OOP.\n",
        "\n",
        " * Inheritance is one of the core principles of Object-Oriented Programming (OOP). It allows a class (called a child or subclass) to inherit attributes and methods from another class (called a parent or superclass).\n",
        " * Uses of Inheritance:\n",
        "      * Avoid code duplication\n",
        "\n",
        "      * Promote reusability and scalability\n",
        "\n",
        "      * Create a clear hierarchical structure\n",
        "\n",
        "# 7.  What is polymorphism in OOP?\n",
        "\n",
        "  * Polymorphism is a core concept in Object-Oriented Programming (OOP) that means “many forms.” It allows objects of different classes to be treated through a common interface, typically a shared parent class or method name, while behaving differently based on their actual class.\n",
        "\n",
        "# 8.  How is encapsulation achieved in Python?\n",
        "\n",
        "  * Encapsulation in Python is achieved by restricting direct access to some of an object's internal data and providing controlled access through methods (getters/setters).\n",
        "\n",
        "        class Person:\n",
        "            def __init__(self, name, age):\n",
        "                 self.name = name          # Public\n",
        "                 self._email = \"hidden@example.com\"  # Protected (by convention)\n",
        "                 self.__age = age          # Private (name mangled)\n",
        "\n",
        "            def get_age(self):\n",
        "                 return self.__age\n",
        "\n",
        "             def set_age(self, age):\n",
        "                 if age > 0:\n",
        "                      self.__age = age\n",
        "                 else:\n",
        "                      print(\"Invalid age\")\n",
        "\n",
        "        # Creating an object\n",
        "        p = Person(\"Alice\", 30)\n",
        "\n",
        "        print(p.name)         # Accessible\n",
        "        print(p._email)       # Accessible but not recommended\n",
        "        # print(p.__age)      # Error: Attribute is private\n",
        "\n",
        "        print(p.get_age())    # Access via method\n",
        "        p.set_age(35)         # Modifying safely\n",
        "\n",
        "# 9. What is a constructor in Python?\n",
        "\n",
        "  * A constructor in Python is a special method used to initialize newly created objects. It sets up the object with initial values when it's created from a class.\n",
        "  * The Constructor Method:  `__init__()`\n",
        "     \n",
        "      * In Python, the constructor is defined using the __init__() method.\n",
        "\n",
        "      * It’s automatically called when a new object is created.\n",
        "\n",
        "      * It's used to assign values to object properties.\n",
        "\n",
        "# 10. What are class and static methods in Python?\n",
        "\n",
        "  * In Python, class methods and static methods are special types of methods that belong to a class rather than an instance (object). They are used when your logic relates more to the class itself than to any particular object.\n",
        "\n",
        "    1. Class Method – @classmethod\n",
        "\n",
        "      * It takes cls as the first parameter (not self)\n",
        "\n",
        "      * Can access or modify class-level data\n",
        "\n",
        "      * Can be called using either the class or an instance\n",
        "\n",
        "    2. Static Method – @staticmethod\n",
        "\n",
        "      * It doesn’t take self or cls as the first parameter\n",
        "\n",
        "      * Acts like a regular function, but lives inside the class namespace\n",
        "\n",
        "      * Can’t access or modify class or instance variables\n",
        "\n",
        "# 11. What is method overloading in Python?\n",
        "\n",
        "  * Method Overloading is the concept of having multiple methods with the same name but different arguments (number or type).\n",
        "\n",
        "        class Demo:\n",
        "           def show(self, a):\n",
        "               print(\"One argument:\", a)\n",
        "\n",
        "           def show(self, a, b):\n",
        "               print(\"Two arguments:\", a, b)\n",
        "\n",
        "        d = Demo()\n",
        "        # d.show(5)   #  Error: missing 1 required positional argument\n",
        "        d.show(5, 10)  #  Works, because only the last method exists\n",
        "\n",
        "# 12. What is method overriding in OOP?\n",
        "\n",
        "  * Method Overriding is an OOP feature that allows a child class to provide a specific implementation of a method that is already defined in its parent class.\n",
        "  * The method name, parameters, and signature remain the same, but the behavior is customized in the child class.\n",
        "\n",
        "# 13.  What is a property decorator in Python?\n",
        "\n",
        "  * The @property decorator is a built-in Python feature that allows you to define methods that behave like attributes. It lets you access methods like attributes while still allowing you to add logic behind getting, setting, or deleting a value.\n",
        "\n",
        "# 14. Why is polymorphism important in OOP?\n",
        "\n",
        "  * Polymorphism is a fundamental concept in Object-Oriented Programming (OOP) that means “many forms.” Its importance lies in enabling flexible, reusable, and maintainable code by allowing the same interface to work with different types of objects.\n",
        "  \n",
        "  * Key Benefits of Polymorphism:\n",
        "\n",
        "    * Code Reusability\n",
        "    * Improves Readability and Maintainability\n",
        "    * Supports Dynamic Behavior (Runtime Flexibility)\n",
        "\n",
        "# 15. What is an abstract class in Python?\n",
        "\n",
        "  * An abstract class in Python is a class that cannot be instantiated directly and is meant to be subclassed. It can contain abstract methods (methods with no implementation) that must be implemented by any subclass.\n",
        "\n",
        "  * Python provides the abc module (Abstract Base Classes) to define abstract classes.\n",
        "\n",
        "# 16.  What are the advantages of OOP?\n",
        "  * Object-Oriented Programming (OOP) is a programming paradigm based on the concept of “objects” — which bundle data and behavior together. OOP offers several key benefits that make software development more manageable, scalable, and efficient.\n",
        "\n",
        "      1. Modularity\n",
        "      2. Reusability\n",
        "      3. Encapsulation\n",
        "      4. Polymorphism\n",
        "\n",
        "# 17.  What is the difference between a class variable and an instance variable?\n",
        "\n",
        "  *   Class Variable\n",
        "         * Belongs to the class, shared across all instances\n",
        "\n",
        "         * Defined outside of any method, usually directly in the class body\n",
        "\n",
        "         * Changing it affects all objects of the class (unless overridden in an instance)\n",
        "  *    Instance Variable\n",
        "         * Belongs to a specific object (instance)\n",
        "\n",
        "         * Defined inside the __init__() method using self\n",
        "\n",
        "         * Changing it affects only that specific object       \n",
        "\n",
        "# 18. What is multiple inheritance in Python?\n",
        "\n",
        "  * Multiple Inheritance is a feature in Python that allows a class to inherit from more than one parent class. This means a child class can access attributes and methods from multiple parent classes.\n",
        "\n",
        "          class Father:\n",
        "            def skills(self):\n",
        "               print(\"Gardening, Driving\")\n",
        "\n",
        "          class Mother:\n",
        "             def skills(self):\n",
        "               print(\"Cooking, Teaching\")\n",
        "\n",
        "          class Child(Father, Mother):\n",
        "            def own_skill(self):\n",
        "               print(\"Coding\")\n",
        "\n",
        "          c = Child()\n",
        "          c.skills()       # Output: Gardening, Driving (from Father due to MRO)\n",
        "          c.own_skill()    # Output: Coding\n",
        "\n",
        "# 19. Explain the purpose of `__str__` and `__repr__` methods in Python.\n",
        "\n",
        "  * `__str__` → Human-readable\n",
        "      * Called by the built-in str() function or when you use print() on an object.\n",
        "\n",
        "      * Intended for end users.\n",
        "\n",
        "      * Should return a nicely formatted, readable string.\n",
        "\n",
        "  *  `__repr__` → Developer/debugging output\n",
        "      * Called by the built-in repr() function or when you type the object name in the interpreter.\n",
        "\n",
        "      * Intended for developers.\n",
        "\n",
        "      * Should return a valid Python expression that could be used to recreate the object (if possible), or something unambiguous.    \n",
        "\n",
        "# 20. What is the significance of the ‘super()’ function in Python?\n",
        "\n",
        "  * The super() function in Python is used to call a method from the parent (or superclass) — typically inside a subclass. It’s especially useful in inheritance scenarios to ensure that parent class logic is preserved or extended.\n",
        "\n",
        "        class Parent:\n",
        "          def greet(self):\n",
        "            print(\"Hello from Parent\")\n",
        "\n",
        "        class Child(Parent):\n",
        "          def greet(self):\n",
        "            super().greet()  # Call Parent's greet method\n",
        "            print(\"Hello from Child\")\n",
        "\n",
        "        c = Child()\n",
        "        c.greet()\n",
        "        # Output\n",
        "        Hello from Parent\n",
        "        Hello from Child\n",
        "\n",
        "# 21. What is the significance of the `__del__` method in Python?\n",
        "\n",
        "  * The `__del__` method in Python is a special (dunder) method called when an object is about to be destroyed (garbage collected). It's also known as a destructor.\n",
        "  * The `__del__` method is used to define cleanup behavior — like closing files, releasing network connections, or freeing other external resources when an object is no longer needed.\n",
        "\n",
        "# 22. What is the difference between @staticmethod and @classmethod in Python?\n",
        "\n",
        "  * @staticmethod\n",
        "      * Does not take self or cls as the first argument.\n",
        "\n",
        "      * Acts like a regular function inside a class.\n",
        "\n",
        "      * Cannot access or modify instance variables or class variables.\n",
        "\n",
        "      * Used for utility methods that relate to the class but don’t need to know about the class or instance.\n",
        "  * @classmethod\n",
        "      * Takes cls (the class itself) as the first parameter.\n",
        "\n",
        "      * Can access and modify class state (class variables).\n",
        "\n",
        "      * Used for factory methods, alternate constructors, or when logic depends on the class, not the instance.    \n",
        "\n",
        "# 23. How does polymorphism work in Python with inheritance?\n",
        "\n",
        "  * In Python, polymorphism with inheritance means that a single method name can be used across different classes, and the correct method is chosen based on the object’s actual class — even when accessed via a base class reference.\n",
        "\n",
        "  * Polymorphism allows different classes (related by inheritance) to respond to the same method call in different ways.\n",
        "\n",
        "# 24. What is method chaining in Python OOP?\n",
        "\n",
        "  * Method chaining is a programming technique where multiple method calls are linked together in a single statement, one after another.\n",
        "  \n",
        "\n",
        "   class Car:\n",
        "      def __init__(self):\n",
        "        self.color = None\n",
        "        self.speed = 0\n",
        "\n",
        "      def set_color(self, color):\n",
        "        self.color = color\n",
        "        return self  # Return the current instance\n",
        "\n",
        "      def accelerate(self, increment):\n",
        "        self.speed += increment\n",
        "        return self  # Return the current instance\n",
        "\n",
        "      def show_status(self):\n",
        "        print(f\"Car color: {self.color}, Speed: {self.speed} km/h\")\n",
        "        return self  # Return self to allow chaining if desired\n",
        "\n",
        "    # Using method chaining\n",
        "    car = Car()\n",
        "    car.set_color(\"Red\").accelerate(30).show_status()\n",
        "    # Output\n",
        "    Car color: Red, Speed: 30 km/h\n",
        "\n",
        "# 25.  What is the purpose of the `__call__` method in Python?\n",
        "\n",
        "  * The `__call__` method is a special (dunder) method that makes an instance of a class callable like a function. This means you can use the object itself with parentheses () as if it were a regular function.\n",
        "\n",
        "          class Greeter:\n",
        "            def __init__(self, name):\n",
        "              self.name = name\n",
        "\n",
        "            def __call__(self, greeting):\n",
        "              print(f\"{greeting}, {self.name}!\")\n",
        "\n",
        "          greet = Greeter(\"Alice\")\n",
        "          greet(\"Hello\")  # Using the instance as a function\n",
        "          # output\n",
        "          Hello, Alice!\n"
      ],
      "metadata": {
        "id": "RofuDVPdPBq0"
      }
    },
    {
      "cell_type": "markdown",
      "source": [
        "#  1. Create a parent class Animal with a method speak() that prints a generic message. Create a child class Dog that overrides the speak() method to print \"Bark!\"."
      ],
      "metadata": {
        "id": "x6Gbv3xxh4Oh"
      }
    },
    {
      "cell_type": "code",
      "execution_count": 45,
      "metadata": {
        "id": "pKGYd2ulOwdZ",
        "colab": {
          "base_uri": "https://localhost:8080/"
        },
        "outputId": "1744d86d-b1a4-4266-b0b4-eb1365cd3289"
      },
      "outputs": [
        {
          "output_type": "stream",
          "name": "stdout",
          "text": [
            "some generic sound\n",
            "Bark!\n"
          ]
        }
      ],
      "source": [
        "class Animal():\n",
        "  def speak(self):\n",
        "    print('some generic sound')\n",
        "class Dog(Animal):\n",
        "  def speak(self):\n",
        "    print(\"Bark!\")\n",
        "a=Animal()\n",
        "a.speak()\n",
        "d = Dog()\n",
        "d.speak()"
      ]
    },
    {
      "cell_type": "markdown",
      "source": [
        "# 2. Write a program to create an abstract class Shape with a method area(). Derive classes Circle and Rectangle from it and implement the area() method in both."
      ],
      "metadata": {
        "id": "9EkB45Gdjku8"
      }
    },
    {
      "cell_type": "code",
      "source": [
        "from abc import ABC, abstractmethod\n",
        "class Shape(ABC):\n",
        "  @abstractmethod\n",
        "  def area(self):\n",
        "    pass\n",
        "class Circle(Shape):\n",
        "  def __init__(self,radius):\n",
        "    self.radius=radius\n",
        "  def area(self):\n",
        "    print(f'Area of circle with radius {self.radius} is {3.14*self.radius*self.radius}')\n",
        "\n",
        "class Rectangle(Shape):\n",
        "  def __init__(self,length,breadth):\n",
        "    self.length = length\n",
        "    self.breadth = breadth\n",
        "  def area(self):\n",
        "    print(f'Area of Rectangle = {self.length*self.breadth}')\n",
        "c = Circle(7)\n",
        "c.area()\n",
        "r = Rectangle(5,7)\n",
        "r.area()"
      ],
      "metadata": {
        "colab": {
          "base_uri": "https://localhost:8080/"
        },
        "id": "jFJeuhrrjteW",
        "outputId": "e658e408-b20d-4220-c349-513e2bfbcf64"
      },
      "execution_count": 28,
      "outputs": [
        {
          "output_type": "stream",
          "name": "stdout",
          "text": [
            "Area of circle with radius 7 is 153.86\n",
            "Area of Rectangle = 35\n"
          ]
        }
      ]
    },
    {
      "cell_type": "markdown",
      "source": [
        "# 3. Implement a multi-level inheritance scenario where a class Vehicle has an attribute type. Derive a class Car and further derive a class ElectricCar that adds a battery attribute."
      ],
      "metadata": {
        "id": "BvAdZQsnoLi3"
      }
    },
    {
      "cell_type": "code",
      "source": [
        "class Vehicle():\n",
        "  def __init__(self,type):\n",
        "    self.type=type\n",
        "\n",
        "class Car(Vehicle):\n",
        "  def __init__(self,name,model):\n",
        "    self.name = name\n",
        "    self.model = model\n",
        "  def details(self):\n",
        "    print(f'Your Car is {self.name}, {self.model}')\n",
        "\n",
        "class ElectricCar(Car):\n",
        "  def __init__(self, name, model,battery_info):\n",
        "    super().__init__(name, model)\n",
        "    self.battery_info= battery_info\n",
        "  def battery(self):\n",
        "    print(f'Your car is {self.name}, {self.model} with {self.battery_info} battery')\n",
        "v = Vehicle('car')\n",
        "print(v.type)\n",
        "c = Car('Land Rover','Defender')\n",
        "c.details()\n",
        "e = ElectricCar('tesla','m4','lithium ion')\n",
        "e.battery()\n"
      ],
      "metadata": {
        "colab": {
          "base_uri": "https://localhost:8080/"
        },
        "id": "0p52q1mnk2HO",
        "outputId": "5ae16d5d-cabc-4514-97be-aae051f98741"
      },
      "execution_count": 29,
      "outputs": [
        {
          "output_type": "stream",
          "name": "stdout",
          "text": [
            "car\n",
            "Your Car is Land Rover, Defender\n",
            "Your car is tesla, m4 with lithium ion battery\n"
          ]
        }
      ]
    },
    {
      "cell_type": "markdown",
      "source": [
        "# 4. Demonstrate polymorphism by creating a base class Bird with a method fly(). Create two derived classes Sparrow and Penguin that override the fly() method."
      ],
      "metadata": {
        "id": "3HhONNCAo731"
      }
    },
    {
      "cell_type": "code",
      "source": [
        "class Bird():\n",
        "  def fly(self):\n",
        "    print('Some bird can fly and some can not fly')\n",
        "class Sparrow(Bird):\n",
        "  def fly(self):\n",
        "    print('Sparrow can fly')\n",
        "class Penguin(Bird):\n",
        "  def fly(self):\n",
        "    print('Penguin is a bird which can not fly')\n",
        "b = Bird()\n",
        "b.fly()\n",
        "s =Sparrow()\n",
        "s.fly()\n",
        "p = Penguin()\n",
        "p.fly()"
      ],
      "metadata": {
        "colab": {
          "base_uri": "https://localhost:8080/"
        },
        "id": "suf3m41Eo__w",
        "outputId": "f9dbbc8d-48bd-48ae-f2c1-ca84743f487a"
      },
      "execution_count": 30,
      "outputs": [
        {
          "output_type": "stream",
          "name": "stdout",
          "text": [
            "Some bird can fly and some can not fly\n",
            "Sparrow can fly\n",
            "Penguin is a bird which can not fly\n"
          ]
        }
      ]
    },
    {
      "cell_type": "markdown",
      "source": [
        "# 5. Write a program to demonstrate encapsulation by creating a class BankAccount with private attributes balance and methods to deposit, withdraw, and check balance."
      ],
      "metadata": {
        "id": "qNcWvn85pAbH"
      }
    },
    {
      "cell_type": "code",
      "source": [
        "class BankAccount():\n",
        "  def __init__(self,initial_bal = 0):\n",
        "    self.__balance = initial_bal\n",
        "  def deposit(self,amount):\n",
        "    if amount > 0:\n",
        "      self.__balance += amount\n",
        "      print(f'Amount ${amount} deposited successfully.')\n",
        "    else:\n",
        "      print('Enter valid amount')\n",
        "  def withdraw(self,amount):\n",
        "    if 0 < amount <=self.__balance:\n",
        "      self.__balance -= amount\n",
        "      print(f'Amount ${amount} withdrawal successfull')\n",
        "    else:\n",
        "      print('Enter valid amount')\n",
        "  def checkbalance(self):\n",
        "    print(f'Current Balance : ${self.__balance}')\n",
        "\n",
        "b = BankAccount()\n",
        "b.deposit(1000000)\n",
        "b.withdraw(50000)\n",
        "b.checkbalance()\n"
      ],
      "metadata": {
        "id": "i2C-nvEMpLn3",
        "colab": {
          "base_uri": "https://localhost:8080/"
        },
        "outputId": "363fc40c-0473-4650-fd42-9595a31e2579"
      },
      "execution_count": 48,
      "outputs": [
        {
          "output_type": "stream",
          "name": "stdout",
          "text": [
            "Amount $1000000 deposited successfully.\n",
            "Amount $50000 withdrawal successfull\n",
            "Current Balance : $950000\n"
          ]
        }
      ]
    },
    {
      "cell_type": "markdown",
      "source": [
        "# 6. Demonstrate runtime polymorphism using a method play() in a base class Instrument. Derive classes Guitar and Piano that implement their own version of play()."
      ],
      "metadata": {
        "id": "bu4ieFh-x1fB"
      }
    },
    {
      "cell_type": "code",
      "source": [
        "class Instrument():\n",
        "  def play(self):\n",
        "    print('Musical instruments genrate pleasent sound')\n",
        "class Guitar(Instrument):\n",
        "  def play(self):\n",
        "    print('Basic mechanism of Guitar revolves around string vibration and how that vibration is manipulated and amplified to produce sound.')\n",
        "class Piano(Instrument):\n",
        "  def play(self):\n",
        "    print('The piano action mechanism is the system of parts that translates a key press into a hammer striking the strings, producing sound')\n",
        "i = Instrument()\n",
        "i.play()\n",
        "g= Guitar()\n",
        "g.play()\n",
        "p= Piano()\n",
        "p.play()"
      ],
      "metadata": {
        "id": "eLnEFOq2yAsq",
        "colab": {
          "base_uri": "https://localhost:8080/"
        },
        "outputId": "4046e72f-85d8-4a90-c381-d64b1c7fd31f"
      },
      "execution_count": 32,
      "outputs": [
        {
          "output_type": "stream",
          "name": "stdout",
          "text": [
            "Musical instruments genrate pleasent sound\n",
            "Basic mechanism of Guitar revolves around string vibration and how that vibration is manipulated and amplified to produce sound.\n",
            "The piano action mechanism is the system of parts that translates a key press into a hammer striking the strings, producing sound\n"
          ]
        }
      ]
    },
    {
      "cell_type": "markdown",
      "source": [
        "# 7. Create a class MathOperations with a class method add_numbers() to add two numbers and a static method subtract_numbers() to subtract two numbers."
      ],
      "metadata": {
        "id": "1L1Ylu8_yTqD"
      }
    },
    {
      "cell_type": "code",
      "source": [
        "class MathOperations():\n",
        "  @classmethod\n",
        "  def add_numbers(cls,a,b):\n",
        "    print(f'{a}+{b}={a+b}')\n",
        "  @staticmethod\n",
        "  def subtract_numbers(a,b):\n",
        "    print(f'{a}-{b}={a-b}')\n",
        "\n",
        "MathOperations.add_numbers(55,20)\n",
        "MathOperations.subtract_numbers(55,20)"
      ],
      "metadata": {
        "id": "MEfq0uJSybel",
        "colab": {
          "base_uri": "https://localhost:8080/"
        },
        "outputId": "a260efeb-9592-42e9-9d21-d6449b449339"
      },
      "execution_count": 33,
      "outputs": [
        {
          "output_type": "stream",
          "name": "stdout",
          "text": [
            "55+20=75\n",
            "55-20=35\n"
          ]
        }
      ]
    },
    {
      "cell_type": "markdown",
      "source": [
        "#  8. Implement a class Person with a class method to count the total number of persons created."
      ],
      "metadata": {
        "id": "VvsXC3jTyb6L"
      }
    },
    {
      "cell_type": "code",
      "source": [
        "class Person():\n",
        "  _count = 0\n",
        "  @classmethod\n",
        "  def __init__(cls):\n",
        "    cls._count+=1\n",
        "  @classmethod\n",
        "  def get_count(cls):\n",
        "    return cls._count\n",
        "p1 = Person()\n",
        "p2=Person()\n",
        "p3 = Person()\n",
        "p= Person()\n",
        "p4 = Person()\n",
        "Person.get_count()"
      ],
      "metadata": {
        "id": "9UdLjf2iyi2T",
        "colab": {
          "base_uri": "https://localhost:8080/"
        },
        "outputId": "0fedf654-1923-4829-f384-315274b316ae"
      },
      "execution_count": 34,
      "outputs": [
        {
          "output_type": "execute_result",
          "data": {
            "text/plain": [
              "5"
            ]
          },
          "metadata": {},
          "execution_count": 34
        }
      ]
    },
    {
      "cell_type": "markdown",
      "source": [
        "# 9. Write a class Fraction with attributes numerator and denominator. Override the str method to display the fraction as \"numerator/denominator\"."
      ],
      "metadata": {
        "id": "pXOG9AmFyjLp"
      }
    },
    {
      "cell_type": "code",
      "source": [
        "class Fraction():\n",
        "  def __init__(self,numerator,denominator):\n",
        "    self.numerator= numerator\n",
        "    self.denominator = denominator\n",
        "  def __str__(self):\n",
        "      return f'Fraction = {self.numerator}/{self.denominator}'\n",
        "f = Fraction(7,2)\n",
        "f1 = Fraction(15,30)\n",
        "print(f)\n",
        "print(f1)\n"
      ],
      "metadata": {
        "id": "ucbteWfsyrhR",
        "colab": {
          "base_uri": "https://localhost:8080/"
        },
        "outputId": "eea0b9a8-441f-4cc1-ca9d-8d3223e45143"
      },
      "execution_count": 35,
      "outputs": [
        {
          "output_type": "stream",
          "name": "stdout",
          "text": [
            "Fraction = 7/2\n",
            "Fraction = 15/30\n"
          ]
        }
      ]
    },
    {
      "cell_type": "markdown",
      "source": [
        "#  10. Demonstrate operator overloading by creating a class Vector and overriding the add method to add two vectors."
      ],
      "metadata": {
        "id": "tEsD2JGMyr5g"
      }
    },
    {
      "cell_type": "code",
      "source": [
        "class Vector:\n",
        "    def __init__(self, x, y):\n",
        "        self.x = x\n",
        "        self.y = y\n",
        "\n",
        "    def __add__(self, other):\n",
        "        return Vector(self.x + other.x, self.y + other.y)\n",
        "\n",
        "    def __str__(self):\n",
        "        return f\"({self.x}, {self.y})\"\n",
        "v1 = Vector(2, 3)\n",
        "v2 = Vector(4, 5)\n",
        "\n",
        "v3 = v1 + v2\n",
        "\n",
        "print(\"Vector 1:\", v1)\n",
        "print(\"Vector 2:\", v2)\n",
        "print(\"Vector 1 + Vector 2 =\", v3)\n"
      ],
      "metadata": {
        "id": "UuY2soK4yx1E",
        "colab": {
          "base_uri": "https://localhost:8080/"
        },
        "outputId": "e30fd294-cb04-4cf2-9f38-15e3a1d5dc6a"
      },
      "execution_count": 36,
      "outputs": [
        {
          "output_type": "stream",
          "name": "stdout",
          "text": [
            "Vector 1: (2, 3)\n",
            "Vector 2: (4, 5)\n",
            "Vector 1 + Vector 2 = (6, 8)\n"
          ]
        }
      ]
    },
    {
      "cell_type": "markdown",
      "source": [
        "#  11. Create a class Person with attributes name and age. Add a method greet() that prints \"Hello, my name is {name} and I am {age} years old.\""
      ],
      "metadata": {
        "id": "8tlLMdKKyyJG"
      }
    },
    {
      "cell_type": "code",
      "source": [
        "class Person():\n",
        "  def __init__(self,name,age):\n",
        "    self.name=name\n",
        "    self.age=age\n",
        "  def greet(self):\n",
        "    print(f'Hello, my name is {self.name} and I am {self.age} years old.')\n",
        "p = Person('Navdeep Gupta',20)\n",
        "p.greet()"
      ],
      "metadata": {
        "id": "yAK9UGZ2zCZa",
        "colab": {
          "base_uri": "https://localhost:8080/"
        },
        "outputId": "e8eafad0-5ac9-4107-c9cb-2bd1edc85bbb"
      },
      "execution_count": 37,
      "outputs": [
        {
          "output_type": "stream",
          "name": "stdout",
          "text": [
            "Hello, my name is Navdeep Gupta and I am 20 years old.\n"
          ]
        }
      ]
    },
    {
      "cell_type": "markdown",
      "source": [
        "# 12. Implement a class Student with attributes name and grades. Create a method average_grade() to compute the average of the grades."
      ],
      "metadata": {
        "id": "iiDqVyp9zC6H"
      }
    },
    {
      "cell_type": "code",
      "source": [
        "class Student():\n",
        "  def __init__(self,name,grades):\n",
        "    self.name=name\n",
        "    self.grades=grades\n",
        "  def average_grade(self):\n",
        "    return f'Average Grade = {sum(self.grades) / len(self.grades)}'\n",
        "  def __str__(self):\n",
        "    return f'Name : {self.name}, Grades : {self.grades}'\n",
        "s1 = Student('Ayush',[33,55,54,79,98])\n",
        "print(s1)\n",
        "print(s1.average_grade())\n",
        "s2 = Student('Navdeep',[64,84,82,76,74])\n",
        "print(s2)\n",
        "print(s2.average_grade())\n"
      ],
      "metadata": {
        "id": "i39_O3KhzIj9",
        "colab": {
          "base_uri": "https://localhost:8080/"
        },
        "outputId": "04b061aa-dad0-4a88-fe1e-ce4bbc8d50ab"
      },
      "execution_count": 38,
      "outputs": [
        {
          "output_type": "stream",
          "name": "stdout",
          "text": [
            "Name : Ayush, Grades : [33, 55, 54, 79, 98]\n",
            "Average Grade = 63.8\n",
            "Name : Navdeep, Grades : [64, 84, 82, 76, 74]\n",
            "Average Grade = 76.0\n"
          ]
        }
      ]
    },
    {
      "cell_type": "markdown",
      "source": [
        "# 13. Create a class Rectangle with methods set_dimensions() to set the dimensions and area() to calculate the area."
      ],
      "metadata": {
        "id": "SGlPUPtLzJLS"
      }
    },
    {
      "cell_type": "code",
      "source": [
        "class Rectangle():\n",
        "  def __init__(self):\n",
        "    self.height= 0\n",
        "    self.breadth= 0\n",
        "  def set_dimensions(self,height,breadth):\n",
        "    self.height = height\n",
        "    self.breadth= breadth\n",
        "  def area(self):\n",
        "    print(f'Area of rectangle = {self.height*self.breadth}')\n",
        "  def __str__(self):\n",
        "        return f\"Rectangle: {self.height} x {self.breadth}\"\n",
        "r = Rectangle()\n",
        "r.set_dimensions(5,6)\n",
        "print(r)\n",
        "r.area()"
      ],
      "metadata": {
        "id": "r_O-CQTEzQOY",
        "colab": {
          "base_uri": "https://localhost:8080/"
        },
        "outputId": "15ff519b-8abd-4752-d67c-067a36d10690"
      },
      "execution_count": 39,
      "outputs": [
        {
          "output_type": "stream",
          "name": "stdout",
          "text": [
            "Rectangle: 5 x 6\n",
            "Area of rectangle = 30\n"
          ]
        }
      ]
    },
    {
      "cell_type": "markdown",
      "source": [
        "#  14. Create a class Employee with a method calculate_salary() that computes the salary based on hours worked and hourly rate. Create a derived class Manager that adds a bonus to the salary."
      ],
      "metadata": {
        "id": "TYKdSRTZzXgF"
      }
    },
    {
      "cell_type": "code",
      "source": [
        "class Employee():\n",
        "  def __init__(self,name,working_hour):\n",
        "    self.working_hour = working_hour\n",
        "    self.hourly_rate = 200\n",
        "    self.name = name\n",
        "    self.salary = 0\n",
        "  def calculate_salary(self):\n",
        "    self.salary = (self.working_hour*self.hourly_rate)*30\n",
        "    print(f'{self.name} have ${self.salary} monthly salary')\n",
        "class Manager(Employee):\n",
        "  def calculate_salary(self):\n",
        "    self.salary = (self.working_hour*self.hourly_rate)*30 + 0.1*(self.working_hour*self.hourly_rate)*30\n",
        "    print(f'Manager {self.name} have ${self.salary} monthly salary')\n",
        "e = Employee('ayush',8)\n",
        "e.calculate_salary()\n",
        "m = Manager('rahul',8)\n",
        "m.calculate_salary()"
      ],
      "metadata": {
        "id": "9lZE94q8zad3",
        "colab": {
          "base_uri": "https://localhost:8080/"
        },
        "outputId": "e609f877-5504-41d7-e670-a111064fd4d6"
      },
      "execution_count": 40,
      "outputs": [
        {
          "output_type": "stream",
          "name": "stdout",
          "text": [
            "ayush have $48000 monthly salary\n",
            "Manager rahul have $52800.0 monthly salary\n"
          ]
        }
      ]
    },
    {
      "cell_type": "markdown",
      "source": [
        "# 15. Create a class Product with attributes name, price, and quantity. Implement a method total_price() that calculates the total price of the product."
      ],
      "metadata": {
        "id": "lBvqpsMxza1C"
      }
    },
    {
      "cell_type": "code",
      "source": [
        "class Product():\n",
        "  def __init__(self,name,price,quantity):\n",
        "    self.name=name\n",
        "    self.price=price\n",
        "    self.quantity=quantity\n",
        "  def total_price(self):\n",
        "    totalprice = self.price*self.quantity\n",
        "    print(f'Total price of  {self.name} is {self.price}*{self.quantity} = {totalprice}')\n",
        "\n",
        "p1= Product('parle G',10,5)\n",
        "p1.total_price()\n",
        "p2 = Product('Dragon fruit',150,3)\n",
        "p2.total_price()"
      ],
      "metadata": {
        "id": "R_2P4FUjzi1G",
        "colab": {
          "base_uri": "https://localhost:8080/"
        },
        "outputId": "01c957a4-fd3c-4fa2-aa63-e6a1b6cf1f4f"
      },
      "execution_count": 41,
      "outputs": [
        {
          "output_type": "stream",
          "name": "stdout",
          "text": [
            "Total price of  parle G is 10*5 = 50\n",
            "Total price of  Dragon fruit is 150*3 = 450\n"
          ]
        }
      ]
    },
    {
      "cell_type": "markdown",
      "source": [
        "# 16. Create a class Animal with an abstract method sound(). Create two derived classes Cow and Sheep that implement the sound() method."
      ],
      "metadata": {
        "id": "ip7_YmxkzjW7"
      }
    },
    {
      "cell_type": "code",
      "source": [
        "from abc import ABC, abstractmethod\n",
        "class Animal(ABC):\n",
        "  @abstractmethod\n",
        "  def sound(self):\n",
        "    print('sounds of different animals is different')\n",
        "class Cow(Animal):\n",
        "  def sound(self):\n",
        "    print('Sound of Cow : mowww mowww')\n",
        "class Sheep(Animal):\n",
        "  def sound(self):\n",
        "    print('Sound of Sheep : mehhhh mehhhh')\n",
        "c = Cow()\n",
        "c.sound()\n",
        "s = Sheep()\n",
        "s.sound()\n",
        "#a =Animal()  #showing error due to abstract class"
      ],
      "metadata": {
        "id": "5fJI9_WTzoFt",
        "colab": {
          "base_uri": "https://localhost:8080/"
        },
        "outputId": "8446715a-e636-4c97-c1e7-8241401e4750"
      },
      "execution_count": 42,
      "outputs": [
        {
          "output_type": "stream",
          "name": "stdout",
          "text": [
            "Sound of Cow : mowww mowww\n",
            "Sound of Sheep : mehhhh mehhhh\n"
          ]
        }
      ]
    },
    {
      "cell_type": "markdown",
      "source": [
        "# 17. Create a class Book with attributes title, author, and year_published. Add a method get_book_info() that returns a formatted string with the book's details."
      ],
      "metadata": {
        "id": "KJSQvamfzocG"
      }
    },
    {
      "cell_type": "code",
      "source": [
        "class Book():\n",
        "  def __init__(self,title,author,year_published):\n",
        "    self.title = title\n",
        "    self.author = author\n",
        "    self.year_published = year_published\n",
        "  def get_book_info(self):\n",
        "      print(f'{self.title} by {self.author} published in {self.year_published}')\n",
        "b = Book('The Great Gatsby','F. Scott Fitzgerald',1925)\n",
        "b.get_book_info()"
      ],
      "metadata": {
        "id": "BVxT3rQ0zvMM",
        "colab": {
          "base_uri": "https://localhost:8080/"
        },
        "outputId": "d2b8d94b-487e-4d48-ce4c-0c9c6e97019e"
      },
      "execution_count": 50,
      "outputs": [
        {
          "output_type": "stream",
          "name": "stdout",
          "text": [
            "The Great Gatsby by F. Scott Fitzgerald published in 1925\n"
          ]
        }
      ]
    },
    {
      "cell_type": "markdown",
      "source": [
        "# 18. Create a class House with attributes address and price. Create a derived class Mansion that adds an attribute number_of_rooms."
      ],
      "metadata": {
        "id": "l9759HwqzvjZ"
      }
    },
    {
      "cell_type": "code",
      "source": [
        "class House():\n",
        "  def __init__(self,address,price):\n",
        "    self.address = address\n",
        "    self.price = price\n",
        "  def __str__(self):\n",
        "    return f'{self.address} has market value ${self.price}'\n",
        "class Mansion(House):\n",
        "  def __init__(self,address,price,number_of_rooms):\n",
        "    self.number_of_rooms = number_of_rooms\n",
        "    super().__init__(address, price)\n",
        "  def __str__(self):\n",
        "    return f'Mansion with {self.number_of_rooms} number of rooms has price value of ${self.price} at premium location : {self.address}'\n",
        "h = House('green street,LA, america',100000)\n",
        "print(h)\n",
        "m = Mansion('street no. 4,new york',500000,5)\n",
        "print(m)\n"
      ],
      "metadata": {
        "id": "J86v3YD1z0nP",
        "colab": {
          "base_uri": "https://localhost:8080/"
        },
        "outputId": "f452b992-9a02-4280-cff8-f91aab53893a"
      },
      "execution_count": 49,
      "outputs": [
        {
          "output_type": "stream",
          "name": "stdout",
          "text": [
            "green street,LA, america has market value $100000\n",
            "Mansion with 5 number of rooms has price value of $500000 at premium location : street no. 4,new york\n"
          ]
        }
      ]
    }
  ]
}